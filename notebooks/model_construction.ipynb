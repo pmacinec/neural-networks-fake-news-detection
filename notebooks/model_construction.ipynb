{
 "cells": [
  {
   "cell_type": "markdown",
   "metadata": {},
   "source": [
    "# Fake news detection\n",
    "\n",
    "**Authors:** Peter Mačinec, Simona Miková"
   ]
  },
  {
   "cell_type": "markdown",
   "metadata": {},
   "source": [
    "## Model construction"
   ]
  },
  {
   "cell_type": "code",
   "execution_count": 1,
   "metadata": {},
   "outputs": [],
   "source": [
    "import pandas as pd\n",
    "import matplotlib.pyplot as plt\n",
    "import numpy as np\n",
    "\n",
    "import sys\n",
    "sys.path.append('..')"
   ]
  },
  {
   "cell_type": "markdown",
   "metadata": {},
   "source": [
    "### Reading data"
   ]
  },
  {
   "cell_type": "code",
   "execution_count": 2,
   "metadata": {},
   "outputs": [],
   "source": [
    "df = pd.read_csv('../data/preprocessed/dataset.csv', index_col=0)"
   ]
  },
  {
   "cell_type": "code",
   "execution_count": 3,
   "metadata": {},
   "outputs": [
    {
     "data": {
      "text/html": [
       "<div>\n",
       "<style scoped>\n",
       "    .dataframe tbody tr th:only-of-type {\n",
       "        vertical-align: middle;\n",
       "    }\n",
       "\n",
       "    .dataframe tbody tr th {\n",
       "        vertical-align: top;\n",
       "    }\n",
       "\n",
       "    .dataframe thead th {\n",
       "        text-align: right;\n",
       "    }\n",
       "</style>\n",
       "<table border=\"1\" class=\"dataframe\">\n",
       "  <thead>\n",
       "    <tr style=\"text-align: right;\">\n",
       "      <th></th>\n",
       "      <th>body</th>\n",
       "      <th>label</th>\n",
       "    </tr>\n",
       "  </thead>\n",
       "  <tbody>\n",
       "    <tr>\n",
       "      <th>259882</th>\n",
       "      <td>healthline media partners with wellness advoca...</td>\n",
       "      <td>reliable</td>\n",
       "    </tr>\n",
       "    <tr>\n",
       "      <th>259883</th>\n",
       "      <td>online patient communities are thriving and ha...</td>\n",
       "      <td>reliable</td>\n",
       "    </tr>\n",
       "    <tr>\n",
       "      <th>259884</th>\n",
       "      <td>email marketing is more critical than ever. in...</td>\n",
       "      <td>reliable</td>\n",
       "    </tr>\n",
       "    <tr>\n",
       "      <th>259885</th>\n",
       "      <td>industry veterans from netflix and ea join fas...</td>\n",
       "      <td>reliable</td>\n",
       "    </tr>\n",
       "    <tr>\n",
       "      <th>259886</th>\n",
       "      <td>the healthline property has risen to 1 in the ...</td>\n",
       "      <td>reliable</td>\n",
       "    </tr>\n",
       "  </tbody>\n",
       "</table>\n",
       "</div>"
      ],
      "text/plain": [
       "                                                     body     label\n",
       "259882  healthline media partners with wellness advoca...  reliable\n",
       "259883  online patient communities are thriving and ha...  reliable\n",
       "259884  email marketing is more critical than ever. in...  reliable\n",
       "259885  industry veterans from netflix and ea join fas...  reliable\n",
       "259886  the healthline property has risen to 1 in the ...  reliable"
      ]
     },
     "execution_count": 3,
     "metadata": {},
     "output_type": "execute_result"
    }
   ],
   "source": [
    "df.head()"
   ]
  },
  {
   "cell_type": "code",
   "execution_count": 4,
   "metadata": {},
   "outputs": [],
   "source": [
    "df['label_encoded'] = df['label'].apply(lambda label: 1 if label == 'unreliable' else 0)\n",
    "labels = np.asarray(df['label_encoded'])"
   ]
  },
  {
   "cell_type": "markdown",
   "metadata": {},
   "source": [
    "Shape of labels"
   ]
  },
  {
   "cell_type": "code",
   "execution_count": 5,
   "metadata": {},
   "outputs": [
    {
     "data": {
      "text/plain": [
       "(65712,)"
      ]
     },
     "execution_count": 5,
     "metadata": {},
     "output_type": "execute_result"
    }
   ],
   "source": [
    "labels.shape"
   ]
  },
  {
   "cell_type": "markdown",
   "metadata": {},
   "source": [
    "### Embeddings preprocessing"
   ]
  },
  {
   "cell_type": "code",
   "execution_count": 6,
   "metadata": {},
   "outputs": [],
   "source": [
    "from src.model.embeddings import get_sequences_and_word_index_table\n",
    "from sklearn.model_selection import train_test_split"
   ]
  },
  {
   "cell_type": "code",
   "execution_count": 7,
   "metadata": {},
   "outputs": [],
   "source": [
    "max_words = 100000"
   ]
  },
  {
   "cell_type": "code",
   "execution_count": 8,
   "metadata": {},
   "outputs": [
    {
     "name": "stdout",
     "output_type": "stream",
     "text": [
      "CPU times: user 1min 31s, sys: 416 ms, total: 1min 31s\n",
      "Wall time: 1min 31s\n"
     ]
    }
   ],
   "source": [
    "%%time\n",
    "sequences, word_index = get_sequences_and_word_index_table(df['body'], max_words)"
   ]
  },
  {
   "cell_type": "markdown",
   "metadata": {},
   "source": [
    "Unique tokens"
   ]
  },
  {
   "cell_type": "code",
   "execution_count": 9,
   "metadata": {},
   "outputs": [
    {
     "data": {
      "text/plain": [
       "100000"
      ]
     },
     "execution_count": 9,
     "metadata": {},
     "output_type": "execute_result"
    }
   ],
   "source": [
    "len(word_index)"
   ]
  },
  {
   "cell_type": "markdown",
   "metadata": {},
   "source": [
    "Shape of input sequences"
   ]
  },
  {
   "cell_type": "code",
   "execution_count": 10,
   "metadata": {},
   "outputs": [
    {
     "data": {
      "text/plain": [
       "(65712, 6292)"
      ]
     },
     "execution_count": 10,
     "metadata": {},
     "output_type": "execute_result"
    }
   ],
   "source": [
    "sequences.shape"
   ]
  },
  {
   "cell_type": "code",
   "execution_count": 11,
   "metadata": {},
   "outputs": [],
   "source": [
    "X_train, X_test, y_train, y_test = train_test_split(sequences, labels, test_size=0.10, random_state=1)"
   ]
  },
  {
   "cell_type": "markdown",
   "metadata": {},
   "source": [
    "### Loading fastText model"
   ]
  },
  {
   "cell_type": "code",
   "execution_count": 12,
   "metadata": {},
   "outputs": [],
   "source": [
    "from src.model.fasttext import read_fasttext_model"
   ]
  },
  {
   "cell_type": "code",
   "execution_count": 13,
   "metadata": {},
   "outputs": [
    {
     "name": "stdout",
     "output_type": "stream",
     "text": [
      "CPU times: user 1min 41s, sys: 1.63 s, total: 1min 43s\n",
      "Wall time: 1min 43s\n"
     ]
    }
   ],
   "source": [
    "%%time\n",
    "fasttext = read_fasttext_model('../models/fasttext/wiki-news-300d-1M.vec')"
   ]
  },
  {
   "cell_type": "code",
   "execution_count": 14,
   "metadata": {},
   "outputs": [
    {
     "data": {
      "text/plain": [
       "(999995, 300)"
      ]
     },
     "execution_count": 14,
     "metadata": {},
     "output_type": "execute_result"
    }
   ],
   "source": [
    "len(fasttext), len(fasttext['work'])"
   ]
  },
  {
   "cell_type": "code",
   "execution_count": 15,
   "metadata": {},
   "outputs": [],
   "source": [
    "embeddings_dim = 300"
   ]
  },
  {
   "cell_type": "code",
   "execution_count": 16,
   "metadata": {},
   "outputs": [
    {
     "data": {
      "text/plain": [
       "array([-0.072 ,  0.013 , -0.0777, -0.0491, -0.085 , -0.0337, -0.0243,\n",
       "        0.0472, -0.0575, -0.0356,  0.0931, -0.0579, -0.0667, -0.0612,\n",
       "       -0.0634, -0.052 ,  0.1209, -0.0841,  0.0455,  0.0819, -0.0535,\n",
       "        0.075 ,  0.0889,  0.1769,  0.0675, -0.0347, -0.0773, -0.0488,\n",
       "       -0.0569,  0.0227,  0.0035,  0.0395,  0.0183,  0.0542, -0.0188,\n",
       "        0.0203, -0.0252, -0.0498,  0.0278,  0.0521,  0.0046, -0.0992,\n",
       "        0.0415, -0.034 ,  0.0507, -0.0419, -0.0607,  0.0656,  0.0076,\n",
       "        0.0696, -0.0558,  0.0456, -0.6356, -0.0703, -0.1587, -0.1104,\n",
       "        0.055 ,  0.016 ,  0.0074,  0.0279, -0.0508,  0.0394, -0.0134,\n",
       "       -0.0315, -0.0289, -0.0604,  0.0277,  0.017 , -0.0156,  0.0355,\n",
       "        0.0201, -0.0229,  0.1151, -0.0961,  0.0129,  0.0488,  0.0038,\n",
       "       -0.0607,  0.0469,  0.1148,  0.0382,  0.0008, -0.0133, -0.1429,\n",
       "        0.0423, -0.0841, -0.0146, -0.0523,  0.0353, -0.0013,  0.1078,\n",
       "        0.0076,  0.0498, -0.0432, -0.0121, -0.054 ,  0.0992,  0.0559,\n",
       "       -0.0699,  0.0376, -0.1434, -0.0286, -0.0596,  0.0298,  0.0157,\n",
       "        0.0019,  0.0178, -0.1016,  0.0129, -0.1058, -0.1313, -0.0973,\n",
       "        0.0014,  0.0206, -0.0798, -0.0549,  0.059 ,  0.0583, -0.0561,\n",
       "       -0.2958,  0.0362,  0.0613,  0.0163,  0.0457, -0.0181,  0.1652,\n",
       "        0.0427,  0.0958,  0.0169, -0.0537, -0.0391, -0.0483, -0.1888,\n",
       "       -0.0876, -0.0107,  0.1283,  0.0102,  0.0256,  0.0357,  0.1059,\n",
       "       -0.0491,  0.0576,  0.0328,  0.3096,  0.0363,  0.004 ,  0.0645,\n",
       "        0.0361, -0.0414,  0.0191, -0.0777,  0.0496,  0.0105, -0.0926,\n",
       "        0.0151,  0.0168,  0.0571, -0.0834,  0.1046,  0.0154, -0.0041,\n",
       "        0.1191,  0.0743,  0.0206, -0.066 , -0.0773,  0.119 , -0.1354,\n",
       "        0.0724,  0.0236,  0.1245,  0.0727,  0.0282,  0.0034, -0.0738,\n",
       "       -0.1089,  0.1461, -0.2987, -0.0121,  0.1115, -0.0153,  0.0245,\n",
       "       -0.0143, -0.0014,  0.0816, -0.1982, -0.0084, -0.0841, -0.0579,\n",
       "       -0.0007,  0.0116,  0.0352, -0.0174, -0.0747,  0.0576,  0.0116,\n",
       "        0.0162,  0.0358,  0.124 , -0.0799,  0.0493, -0.1226,  0.0315,\n",
       "       -0.0136,  0.0567,  0.0402, -0.051 , -0.1615,  0.0544,  0.0628,\n",
       "        0.1056, -0.0529, -0.0183, -0.0143, -0.0088,  0.0167, -0.0576,\n",
       "       -0.0219,  0.0124, -0.0323, -0.1009, -0.0071,  0.133 ,  0.0761,\n",
       "       -0.0211, -0.0928, -0.1289,  0.0723, -0.0882,  0.038 , -0.1981,\n",
       "        0.0467,  0.3405, -0.0776, -0.0254, -0.137 , -0.0185,  0.0508,\n",
       "       -0.163 ,  0.0238, -0.0336, -0.135 , -0.018 , -0.0343,  0.1136,\n",
       "        0.0755, -0.0034, -0.0069,  0.0272,  0.3542,  0.0856,  0.0476,\n",
       "       -0.1113,  0.0011, -0.0516,  0.0652,  0.0673,  0.0236,  0.0239,\n",
       "       -0.0063, -0.102 , -0.065 , -0.0401,  0.1212, -0.1891, -0.0666,\n",
       "        0.0407, -0.0919, -0.0664,  0.001 , -0.0024,  0.099 , -0.0738,\n",
       "       -0.0545,  0.048 ,  0.0535, -0.1183,  0.0513, -0.0019, -0.0418,\n",
       "       -0.0745,  0.1153,  0.1107,  0.0297,  0.0406, -0.0207, -0.036 ,\n",
       "        0.1072,  0.0884, -0.0229, -0.0926, -0.0084, -0.0455,  0.0076,\n",
       "       -0.1298,  0.0394, -0.0261,  0.2044, -0.1034, -0.0521],\n",
       "      dtype=float32)"
      ]
     },
     "execution_count": 16,
     "metadata": {},
     "output_type": "execute_result"
    }
   ],
   "source": [
    "fasttext['work']"
   ]
  },
  {
   "cell_type": "markdown",
   "metadata": {},
   "source": [
    "### Embeddings matrix"
   ]
  },
  {
   "cell_type": "code",
   "execution_count": 17,
   "metadata": {},
   "outputs": [],
   "source": [
    "from src.model.embeddings import get_embeddings_matrix"
   ]
  },
  {
   "cell_type": "code",
   "execution_count": 18,
   "metadata": {},
   "outputs": [
    {
     "name": "stdout",
     "output_type": "stream",
     "text": [
      "CPU times: user 153 ms, sys: 60 ms, total: 213 ms\n",
      "Wall time: 213 ms\n"
     ]
    }
   ],
   "source": [
    "%%time\n",
    "embeddings_matrix = get_embeddings_matrix(word_index, fasttext, embeddings_dim)"
   ]
  },
  {
   "cell_type": "code",
   "execution_count": 19,
   "metadata": {
    "scrolled": false
   },
   "outputs": [
    {
     "data": {
      "text/plain": [
       "array([[ 0.        ,  0.        ,  0.        , ...,  0.        ,\n",
       "         0.        ,  0.        ],\n",
       "       [ 0.0897    ,  0.016     , -0.0571    , ...,  0.1559    ,\n",
       "        -0.0254    , -0.0259    ],\n",
       "       [-0.0063    , -0.0253    , -0.0338    , ...,  0.1155    ,\n",
       "         0.0073    ,  0.0168    ],\n",
       "       ...,\n",
       "       [ 0.36790001,  0.0007    , -0.1013    , ...,  0.28470001,\n",
       "         0.0406    ,  0.1751    ],\n",
       "       [ 0.        ,  0.        ,  0.        , ...,  0.        ,\n",
       "         0.        ,  0.        ],\n",
       "       [ 0.0437    ,  0.0427    , -0.0377    , ...,  0.1001    ,\n",
       "         0.1626    ,  0.0293    ]])"
      ]
     },
     "execution_count": 19,
     "metadata": {},
     "output_type": "execute_result"
    }
   ],
   "source": [
    "embeddings_matrix"
   ]
  },
  {
   "cell_type": "code",
   "execution_count": 20,
   "metadata": {},
   "outputs": [
    {
     "data": {
      "text/plain": [
       "(100001, 300)"
      ]
     },
     "execution_count": 20,
     "metadata": {},
     "output_type": "execute_result"
    }
   ],
   "source": [
    "embeddings_matrix.shape"
   ]
  },
  {
   "cell_type": "code",
   "execution_count": 21,
   "metadata": {},
   "outputs": [
    {
     "data": {
      "text/html": [
       "\n",
       "      <iframe id=\"tensorboard-frame-82e05367fc955daf\" width=\"100%\" height=\"800\" frameborder=\"0\">\n",
       "      </iframe>\n",
       "      <script>\n",
       "        (function() {\n",
       "          const frame = document.getElementById(\"tensorboard-frame-82e05367fc955daf\");\n",
       "          const url = new URL(\"/\", window.location);\n",
       "          url.port = 6006;\n",
       "          frame.src = url;\n",
       "        })();\n",
       "      </script>\n",
       "  "
      ],
      "text/plain": [
       "<IPython.core.display.HTML object>"
      ]
     },
     "metadata": {},
     "output_type": "display_data"
    }
   ],
   "source": [
    "%load_ext tensorboard\n",
    "%tensorboard --logdir logs --bind_all"
   ]
  },
  {
   "cell_type": "code",
   "execution_count": null,
   "metadata": {},
   "outputs": [
    {
     "name": "stdout",
     "output_type": "stream",
     "text": [
      "Train on 59140 samples, validate on 6572 samples\n",
      "Epoch 1/5\n",
      "   48/59140 [..............................] - ETA: 12:25:18 - loss: 0.6945 - accuracy: 0.5000"
     ]
    }
   ],
   "source": [
    "import tensorflow.keras as keras\n",
    "from src.model.model import FakeNewsDetectionNet\n",
    "import os\n",
    "import datetime\n",
    "\n",
    "model = FakeNewsDetectionNet(\n",
    "    dim_input=len(word_index) + 1,\n",
    "    dim_embeddings=embeddings_dim,\n",
    "    dim_output=2,\n",
    "    embeddings=embeddings_matrix\n",
    ")\n",
    "\n",
    "model.compile(\n",
    "    optimizer=keras.optimizers.Adam(learning_rate=0.001),\n",
    "    loss='binary_crossentropy',\n",
    "    metrics=['accuracy']\n",
    ")\n",
    "\n",
    "callbacks = [\n",
    "    keras.callbacks.TensorBoard(\n",
    "        log_dir=os.path.join(\"logs\", datetime.datetime.now().strftime(\"%Y%m%d-%H%M%S\")),\n",
    "        histogram_freq=1,\n",
    "        profile_batch=0\n",
    "    )\n",
    "]\n",
    "\n",
    "model.fit(\n",
    "    x=X_train,\n",
    "    y=y_train,\n",
    "    batch_size=16,\n",
    "    validation_data=(X_test, y_test),\n",
    "    callbacks=callbacks,\n",
    "    epochs=5\n",
    ")\n",
    "\n",
    "model.summary()"
   ]
  },
  {
   "cell_type": "code",
   "execution_count": null,
   "metadata": {},
   "outputs": [],
   "source": []
  }
 ],
 "metadata": {
  "kernelspec": {
   "display_name": "Python 3",
   "language": "python",
   "name": "python3"
  },
  "language_info": {
   "codemirror_mode": {
    "name": "ipython",
    "version": 3
   },
   "file_extension": ".py",
   "mimetype": "text/x-python",
   "name": "python",
   "nbconvert_exporter": "python",
   "pygments_lexer": "ipython3",
   "version": "3.6.8"
  }
 },
 "nbformat": 4,
 "nbformat_minor": 2
}
