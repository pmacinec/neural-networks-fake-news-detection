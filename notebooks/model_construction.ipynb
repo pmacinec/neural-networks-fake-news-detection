{
 "cells": [
  {
   "cell_type": "markdown",
   "metadata": {},
   "source": [
    "# Fake news detection\n",
    "\n",
    "**Authors:** Peter Mačinec, Simona Miková"
   ]
  },
  {
   "cell_type": "markdown",
   "metadata": {},
   "source": [
    "## Model construction"
   ]
  },
  {
   "cell_type": "code",
   "execution_count": 1,
   "metadata": {},
   "outputs": [
    {
     "data": {
      "text/html": [
       "\n",
       "      <iframe id=\"tensorboard-frame-994d2c5bb35550bd\" width=\"100%\" height=\"800\" frameborder=\"0\">\n",
       "      </iframe>\n",
       "      <script>\n",
       "        (function() {\n",
       "          const frame = document.getElementById(\"tensorboard-frame-994d2c5bb35550bd\");\n",
       "          const url = new URL(\"/\", window.location);\n",
       "          url.port = 6006;\n",
       "          frame.src = url;\n",
       "        })();\n",
       "      </script>\n",
       "  "
      ],
      "text/plain": [
       "<IPython.core.display.HTML object>"
      ]
     },
     "metadata": {},
     "output_type": "display_data"
    }
   ],
   "source": [
    "import pandas as pd\n",
    "import matplotlib.pyplot as plt\n",
    "import numpy as np\n",
    "\n",
    "%load_ext tensorboard\n",
    "%tensorboard --logdir logs --bind_all\n",
    "\n",
    "import sys\n",
    "sys.path.append('..')\n",
    "\n",
    "from src.models.fasttext import read_fasttext_model"
   ]
  },
  {
   "cell_type": "code",
   "execution_count": 2,
   "metadata": {},
   "outputs": [],
   "source": [
    "df = pd.read_csv('../data/preprocessed/dataset.csv', index_col=0)"
   ]
  },
  {
   "cell_type": "code",
   "execution_count": 2,
   "metadata": {},
   "outputs": [
    {
     "name": "stdout",
     "output_type": "stream",
     "text": [
      "CPU times: user 1min 41s, sys: 1.88 s, total: 1min 43s\n",
      "Wall time: 1min 43s\n"
     ]
    }
   ],
   "source": [
    "%%time\n",
    "fasttext = read_fasttext_model('../models/fasttext/wiki-news-300d-1M.vec')"
   ]
  },
  {
   "cell_type": "code",
   "execution_count": 13,
   "metadata": {},
   "outputs": [
    {
     "data": {
      "text/plain": [
       "(999995, 300)"
      ]
     },
     "execution_count": 13,
     "metadata": {},
     "output_type": "execute_result"
    }
   ],
   "source": [
    "len(fasttext), len(fasttext['work'])"
   ]
  },
  {
   "cell_type": "code",
   "execution_count": 11,
   "metadata": {},
   "outputs": [
    {
     "data": {
      "text/plain": [
       "array([-0.072 ,  0.013 , -0.0777, -0.0491, -0.085 , -0.0337, -0.0243,\n",
       "        0.0472, -0.0575, -0.0356,  0.0931, -0.0579, -0.0667, -0.0612,\n",
       "       -0.0634, -0.052 ,  0.1209, -0.0841,  0.0455,  0.0819, -0.0535,\n",
       "        0.075 ,  0.0889,  0.1769,  0.0675, -0.0347, -0.0773, -0.0488,\n",
       "       -0.0569,  0.0227,  0.0035,  0.0395,  0.0183,  0.0542, -0.0188,\n",
       "        0.0203, -0.0252, -0.0498,  0.0278,  0.0521,  0.0046, -0.0992,\n",
       "        0.0415, -0.034 ,  0.0507, -0.0419, -0.0607,  0.0656,  0.0076,\n",
       "        0.0696, -0.0558,  0.0456, -0.6356, -0.0703, -0.1587, -0.1104,\n",
       "        0.055 ,  0.016 ,  0.0074,  0.0279, -0.0508,  0.0394, -0.0134,\n",
       "       -0.0315, -0.0289, -0.0604,  0.0277,  0.017 , -0.0156,  0.0355,\n",
       "        0.0201, -0.0229,  0.1151, -0.0961,  0.0129,  0.0488,  0.0038,\n",
       "       -0.0607,  0.0469,  0.1148,  0.0382,  0.0008, -0.0133, -0.1429,\n",
       "        0.0423, -0.0841, -0.0146, -0.0523,  0.0353, -0.0013,  0.1078,\n",
       "        0.0076,  0.0498, -0.0432, -0.0121, -0.054 ,  0.0992,  0.0559,\n",
       "       -0.0699,  0.0376, -0.1434, -0.0286, -0.0596,  0.0298,  0.0157,\n",
       "        0.0019,  0.0178, -0.1016,  0.0129, -0.1058, -0.1313, -0.0973,\n",
       "        0.0014,  0.0206, -0.0798, -0.0549,  0.059 ,  0.0583, -0.0561,\n",
       "       -0.2958,  0.0362,  0.0613,  0.0163,  0.0457, -0.0181,  0.1652,\n",
       "        0.0427,  0.0958,  0.0169, -0.0537, -0.0391, -0.0483, -0.1888,\n",
       "       -0.0876, -0.0107,  0.1283,  0.0102,  0.0256,  0.0357,  0.1059,\n",
       "       -0.0491,  0.0576,  0.0328,  0.3096,  0.0363,  0.004 ,  0.0645,\n",
       "        0.0361, -0.0414,  0.0191, -0.0777,  0.0496,  0.0105, -0.0926,\n",
       "        0.0151,  0.0168,  0.0571, -0.0834,  0.1046,  0.0154, -0.0041,\n",
       "        0.1191,  0.0743,  0.0206, -0.066 , -0.0773,  0.119 , -0.1354,\n",
       "        0.0724,  0.0236,  0.1245,  0.0727,  0.0282,  0.0034, -0.0738,\n",
       "       -0.1089,  0.1461, -0.2987, -0.0121,  0.1115, -0.0153,  0.0245,\n",
       "       -0.0143, -0.0014,  0.0816, -0.1982, -0.0084, -0.0841, -0.0579,\n",
       "       -0.0007,  0.0116,  0.0352, -0.0174, -0.0747,  0.0576,  0.0116,\n",
       "        0.0162,  0.0358,  0.124 , -0.0799,  0.0493, -0.1226,  0.0315,\n",
       "       -0.0136,  0.0567,  0.0402, -0.051 , -0.1615,  0.0544,  0.0628,\n",
       "        0.1056, -0.0529, -0.0183, -0.0143, -0.0088,  0.0167, -0.0576,\n",
       "       -0.0219,  0.0124, -0.0323, -0.1009, -0.0071,  0.133 ,  0.0761,\n",
       "       -0.0211, -0.0928, -0.1289,  0.0723, -0.0882,  0.038 , -0.1981,\n",
       "        0.0467,  0.3405, -0.0776, -0.0254, -0.137 , -0.0185,  0.0508,\n",
       "       -0.163 ,  0.0238, -0.0336, -0.135 , -0.018 , -0.0343,  0.1136,\n",
       "        0.0755, -0.0034, -0.0069,  0.0272,  0.3542,  0.0856,  0.0476,\n",
       "       -0.1113,  0.0011, -0.0516,  0.0652,  0.0673,  0.0236,  0.0239,\n",
       "       -0.0063, -0.102 , -0.065 , -0.0401,  0.1212, -0.1891, -0.0666,\n",
       "        0.0407, -0.0919, -0.0664,  0.001 , -0.0024,  0.099 , -0.0738,\n",
       "       -0.0545,  0.048 ,  0.0535, -0.1183,  0.0513, -0.0019, -0.0418,\n",
       "       -0.0745,  0.1153,  0.1107,  0.0297,  0.0406, -0.0207, -0.036 ,\n",
       "        0.1072,  0.0884, -0.0229, -0.0926, -0.0084, -0.0455,  0.0076,\n",
       "       -0.1298,  0.0394, -0.0261,  0.2044, -0.1034, -0.0521],\n",
       "      dtype=float32)"
      ]
     },
     "execution_count": 11,
     "metadata": {},
     "output_type": "execute_result"
    }
   ],
   "source": [
    "fasttext['work']"
   ]
  },
  {
   "cell_type": "code",
   "execution_count": 23,
   "metadata": {},
   "outputs": [
    {
     "ename": "TypeError",
     "evalue": "unsupported operand type(s) for -: 'list' and 'int'",
     "output_type": "error",
     "traceback": [
      "\u001b[0;31m---------------------------------------------------------------------------\u001b[0m",
      "\u001b[0;31mTypeError\u001b[0m                                 Traceback (most recent call last)",
      "\u001b[0;32m<ipython-input-23-f4f51d72feec>\u001b[0m in \u001b[0;36m<module>\u001b[0;34m\u001b[0m\n\u001b[1;32m      8\u001b[0m \u001b[0;34m\u001b[0m\u001b[0m\n\u001b[1;32m      9\u001b[0m model.add(layers.Embedding(\n\u001b[0;32m---> 10\u001b[0;31m     \u001b[0minput_dim\u001b[0m\u001b[0;34m=\u001b[0m\u001b[0mlen\u001b[0m\u001b[0;34m(\u001b[0m\u001b[0mlines\u001b[0m\u001b[0;34m-\u001b[0m\u001b[0;36m1\u001b[0m\u001b[0;34m)\u001b[0m\u001b[0;34m,\u001b[0m\u001b[0;34m\u001b[0m\u001b[0;34m\u001b[0m\u001b[0m\n\u001b[0m\u001b[1;32m     11\u001b[0m     \u001b[0moutput_dim\u001b[0m\u001b[0;34m=\u001b[0m\u001b[0;36m300\u001b[0m\u001b[0;34m,\u001b[0m\u001b[0;34m\u001b[0m\u001b[0;34m\u001b[0m\u001b[0m\n\u001b[1;32m     12\u001b[0m     \u001b[0membeddings_initializer\u001b[0m\u001b[0;34m=\u001b[0m\u001b[0mtf\u001b[0m\u001b[0;34m.\u001b[0m\u001b[0mkeras\u001b[0m\u001b[0;34m.\u001b[0m\u001b[0minitializers\u001b[0m\u001b[0;34m.\u001b[0m\u001b[0mConstant\u001b[0m\u001b[0;34m(\u001b[0m\u001b[0membedding_matrix\u001b[0m\u001b[0;34m)\u001b[0m\u001b[0;34m,\u001b[0m\u001b[0;34m\u001b[0m\u001b[0;34m\u001b[0m\u001b[0m\n",
      "\u001b[0;31mTypeError\u001b[0m: unsupported operand type(s) for -: 'list' and 'int'"
     ]
    }
   ],
   "source": [
    "model = tf.keras.Sequential()\n",
    "# Add an Embedding layer expecting input vocab of size 1000, and\n",
    "# output embedding dimension of size 64.\n",
    "# self.embedding = tf.keras.layers.Embedding(vocab_size, embedding_dim, \n",
    "# embeddings_initializer=tf.keras.initializers.Constant(embedding_matrix),\n",
    "# trainable=False)\n",
    "\n",
    "\n",
    "model.add(layers.Embedding(\n",
    "    input_dim=len(lines-1),\n",
    "    output_dim=300,\n",
    "    embeddings_initializer=tf.keras.initializers.Constant(embedding_matrix),\n",
    "    trainable=False\n",
    "))\n",
    "\n",
    "# Add a LSTM layer with 128 internal units.\n",
    "model.add(layers.LSTM(128))\n",
    "\n",
    "# Add a Dense layer with 10 units and softmax activation.\n",
    "model.add(layers.Dense(10, activation='softmax'))\n",
    "\n",
    "model.summary()\n"
   ]
  },
  {
   "cell_type": "code",
   "execution_count": null,
   "metadata": {},
   "outputs": [],
   "source": [
    "import tensorflow.keras as keras\n",
    "from src.models.model import FakeNewsDetectionNet\n",
    "\n",
    "model = FakeNewsDetectionNet(\n",
    "    dim_input=len(fasttext),\n",
    "    dim_embeddings=len(fasttext['work']),\n",
    "    dim_output=2\n",
    ")\n",
    "\n",
    "model.compile(\n",
    "    optimizer=keras.optimizers.Adam(learning_rate=0.001),\n",
    "    loss='binary_crossentropy',\n",
    "    metrics=['accuracy']\n",
    ")\n",
    "\n",
    "callbacks = [\n",
    "    keras.callbacks.TensorBoard(\n",
    "        log_dir=os.path.join(\"logs\", timestamp()),\n",
    "        histogram_freq=1,\n",
    "        profile_batch=0\n",
    "    )\n",
    "]\n",
    "\n",
    "model.fit(\n",
    "    x=train_images,\n",
    "    y=train_labels,\n",
    "    batch_size=16,\n",
    "    validation_data=(test_images, test_labels),\n",
    "    callbacks=callbacks,\n",
    "    epochs=30\n",
    ")\n",
    "\n",
    "model.summary()"
   ]
  },
  {
   "cell_type": "code",
   "execution_count": null,
   "metadata": {},
   "outputs": [],
   "source": []
  }
 ],
 "metadata": {
  "kernelspec": {
   "display_name": "Python 3",
   "language": "python",
   "name": "python3"
  },
  "language_info": {
   "codemirror_mode": {
    "name": "ipython",
    "version": 3
   },
   "file_extension": ".py",
   "mimetype": "text/x-python",
   "name": "python",
   "nbconvert_exporter": "python",
   "pygments_lexer": "ipython3",
   "version": "3.6.8"
  }
 },
 "nbformat": 4,
 "nbformat_minor": 2
}
