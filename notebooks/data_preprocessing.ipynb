{
 "cells": [
  {
   "cell_type": "markdown",
   "metadata": {},
   "source": [
    "# Fake news detection\n",
    "\n",
    "**Authors:** Peter Mačinec, Simona Miková"
   ]
  },
  {
   "cell_type": "markdown",
   "metadata": {},
   "source": [
    "## Data preprocessing"
   ]
  },
  {
   "cell_type": "code",
   "execution_count": 1,
   "metadata": {},
   "outputs": [],
   "source": [
    "import pandas as pd\n",
    "import sys\n",
    "sys.path.append('..')\n",
    "\n",
    "from src.data.preprocessing import preprocess_data"
   ]
  },
  {
   "cell_type": "code",
   "execution_count": 2,
   "metadata": {},
   "outputs": [],
   "source": [
    "df = pd.read_json('../data/raw/dataset.json', orient='index')"
   ]
  },
  {
   "cell_type": "code",
   "execution_count": 3,
   "metadata": {},
   "outputs": [
    {
     "data": {
      "text/plain": [
       "195764"
      ]
     },
     "execution_count": 3,
     "metadata": {},
     "output_type": "execute_result"
    }
   ],
   "source": [
    "len(df)"
   ]
  },
  {
   "cell_type": "code",
   "execution_count": 4,
   "metadata": {},
   "outputs": [
    {
     "data": {
      "text/html": [
       "<div>\n",
       "<style scoped>\n",
       "    .dataframe tbody tr th:only-of-type {\n",
       "        vertical-align: middle;\n",
       "    }\n",
       "\n",
       "    .dataframe tbody tr th {\n",
       "        vertical-align: top;\n",
       "    }\n",
       "\n",
       "    .dataframe thead th {\n",
       "        text-align: right;\n",
       "    }\n",
       "</style>\n",
       "<table border=\"1\" class=\"dataframe\">\n",
       "  <thead>\n",
       "    <tr style=\"text-align: right;\">\n",
       "      <th></th>\n",
       "      <th>author</th>\n",
       "      <th>body</th>\n",
       "      <th>id</th>\n",
       "      <th>image</th>\n",
       "      <th>label</th>\n",
       "      <th>perex</th>\n",
       "      <th>source</th>\n",
       "      <th>title</th>\n",
       "    </tr>\n",
       "  </thead>\n",
       "  <tbody>\n",
       "    <tr>\n",
       "      <th>235036</th>\n",
       "      <td>Mike Adams</td>\n",
       "      <td>(NaturalNews) The United States government cla...</td>\n",
       "      <td>235036</td>\n",
       "      <td>https://www.naturalnewsblogs.com/wp-content/up...</td>\n",
       "      <td>unreliable</td>\n",
       "      <td>&lt;p&gt;(NaturalNews) The United States government ...</td>\n",
       "      <td>naturalnewsblogs.com</td>\n",
       "      <td>US government claims 100% ownership over all y...</td>\n",
       "    </tr>\n",
       "    <tr>\n",
       "      <th>235037</th>\n",
       "      <td>by Ronica O&amp;rsquo;Hara (info@www.naturalawaken...</td>\n",
       "      <td>DIGITAL KIDS: How to Click With Young Techies\\...</td>\n",
       "      <td>235037</td>\n",
       "      <td>http://www.naturalawakeningsmag.com/Healthy-Ki...</td>\n",
       "      <td>unreliable</td>\n",
       "      <td>Many Silicon Valley executives that design dev...</td>\n",
       "      <td>naturalawakeningsmag.com</td>\n",
       "      <td>DIGITAL KIDS: How to Click With Young Techies</td>\n",
       "    </tr>\n",
       "    <tr>\n",
       "      <th>235038</th>\n",
       "      <td>by Kathleen Gould and Madalyn Johnson (info@ww...</td>\n",
       "      <td>Herbs: Nature’s Fountain of Youth\\n\\nby Kathle...</td>\n",
       "      <td>235038</td>\n",
       "      <td>http://www.naturalaz.com/ARIZ/September-2019/H...</td>\n",
       "      <td>unreliable</td>\n",
       "      <td>It seems aging is a two-edge sword. At the sam...</td>\n",
       "      <td>naturalawakeningsmag.com</td>\n",
       "      <td>Herbs: Nature’s Fountain of Youth</td>\n",
       "    </tr>\n",
       "    <tr>\n",
       "      <th>235039</th>\n",
       "      <td>Mike Adams</td>\n",
       "      <td>(NaturalNews) Beyond merely inspiring women to...</td>\n",
       "      <td>235039</td>\n",
       "      <td>https://www.naturalnewsblogs.com/wp-content/up...</td>\n",
       "      <td>unreliable</td>\n",
       "      <td>&lt;p&gt;(NaturalNews) Beyond merely inspiring women...</td>\n",
       "      <td>naturalnewsblogs.com</td>\n",
       "      <td>Angelina Jolie copied by men! Surgeons now cut...</td>\n",
       "    </tr>\n",
       "    <tr>\n",
       "      <th>235040</th>\n",
       "      <td>by Andrea Purcell (info@www.naturalawakeningsm...</td>\n",
       "      <td>Give Your Brain a Boost\\n\\nby Andrea Purcell\\n...</td>\n",
       "      <td>235040</td>\n",
       "      <td>http://www.naturalaz.com/ARIZ/September-2019/G...</td>\n",
       "      <td>unreliable</td>\n",
       "      <td>In the United States, there are currently 9.4 ...</td>\n",
       "      <td>naturalawakeningsmag.com</td>\n",
       "      <td>Give Your Brain a Boost</td>\n",
       "    </tr>\n",
       "  </tbody>\n",
       "</table>\n",
       "</div>"
      ],
      "text/plain": [
       "                                                   author  \\\n",
       "235036                                         Mike Adams   \n",
       "235037  by Ronica O&rsquo;Hara (info@www.naturalawaken...   \n",
       "235038  by Kathleen Gould and Madalyn Johnson (info@ww...   \n",
       "235039                                         Mike Adams   \n",
       "235040  by Andrea Purcell (info@www.naturalawakeningsm...   \n",
       "\n",
       "                                                     body      id  \\\n",
       "235036  (NaturalNews) The United States government cla...  235036   \n",
       "235037  DIGITAL KIDS: How to Click With Young Techies\\...  235037   \n",
       "235038  Herbs: Nature’s Fountain of Youth\\n\\nby Kathle...  235038   \n",
       "235039  (NaturalNews) Beyond merely inspiring women to...  235039   \n",
       "235040  Give Your Brain a Boost\\n\\nby Andrea Purcell\\n...  235040   \n",
       "\n",
       "                                                    image       label  \\\n",
       "235036  https://www.naturalnewsblogs.com/wp-content/up...  unreliable   \n",
       "235037  http://www.naturalawakeningsmag.com/Healthy-Ki...  unreliable   \n",
       "235038  http://www.naturalaz.com/ARIZ/September-2019/H...  unreliable   \n",
       "235039  https://www.naturalnewsblogs.com/wp-content/up...  unreliable   \n",
       "235040  http://www.naturalaz.com/ARIZ/September-2019/G...  unreliable   \n",
       "\n",
       "                                                    perex  \\\n",
       "235036  <p>(NaturalNews) The United States government ...   \n",
       "235037  Many Silicon Valley executives that design dev...   \n",
       "235038  It seems aging is a two-edge sword. At the sam...   \n",
       "235039  <p>(NaturalNews) Beyond merely inspiring women...   \n",
       "235040  In the United States, there are currently 9.4 ...   \n",
       "\n",
       "                          source  \\\n",
       "235036      naturalnewsblogs.com   \n",
       "235037  naturalawakeningsmag.com   \n",
       "235038  naturalawakeningsmag.com   \n",
       "235039      naturalnewsblogs.com   \n",
       "235040  naturalawakeningsmag.com   \n",
       "\n",
       "                                                    title  \n",
       "235036  US government claims 100% ownership over all y...  \n",
       "235037      DIGITAL KIDS: How to Click With Young Techies  \n",
       "235038                  Herbs: Nature’s Fountain of Youth  \n",
       "235039  Angelina Jolie copied by men! Surgeons now cut...  \n",
       "235040                            Give Your Brain a Boost  "
      ]
     },
     "execution_count": 4,
     "metadata": {},
     "output_type": "execute_result"
    }
   ],
   "source": [
    "df.head()"
   ]
  },
  {
   "cell_type": "code",
   "execution_count": 5,
   "metadata": {},
   "outputs": [
    {
     "name": "stdout",
     "output_type": "stream",
     "text": [
      "ColumnsFilter transformation started.\n",
      "ColumnsFilter transformation ended, took 0.0650336742401123 seconds.\n",
      "EmptyValuesFilter transformation started.\n",
      "EmptyValuesFilter transformation ended, took 0.20400023460388184 seconds.\n",
      "DuplicatesFilter transformation started.\n",
      "DuplicatesFilter transformation ended, took 6.681593894958496 seconds.\n",
      "TextPreprocessor transformation started.\n",
      "TextPreprocessor transformation ended, took 138.9123866558075 seconds.\n",
      "ArticlesSizeFilter transformation started.\n",
      "ArticlesSizeFilter transformation ended, took 9.332477569580078 seconds.\n",
      "ArticlesSentenceLengthFilter transformation started.\n",
      "ArticlesSentenceLengthFilter transformation ended, took 297.2376461029053 seconds.\n",
      "ArticlesLanguageFilter transformation started.\n",
      "ArticlesLanguageFilter transformation ended, took 3513.211053609848 seconds.\n",
      "Wall time: 1h 6min 9s\n"
     ]
    }
   ],
   "source": [
    "%%time\n",
    "df_preprocessed = preprocess_data([df])[0]"
   ]
  },
  {
   "cell_type": "code",
   "execution_count": 6,
   "metadata": {},
   "outputs": [
    {
     "data": {
      "text/plain": [
       "140647"
      ]
     },
     "execution_count": 6,
     "metadata": {},
     "output_type": "execute_result"
    }
   ],
   "source": [
    "len(df_preprocessed)"
   ]
  },
  {
   "cell_type": "code",
   "execution_count": 7,
   "metadata": {},
   "outputs": [
    {
     "data": {
      "text/html": [
       "<div>\n",
       "<style scoped>\n",
       "    .dataframe tbody tr th:only-of-type {\n",
       "        vertical-align: middle;\n",
       "    }\n",
       "\n",
       "    .dataframe tbody tr th {\n",
       "        vertical-align: top;\n",
       "    }\n",
       "\n",
       "    .dataframe thead th {\n",
       "        text-align: right;\n",
       "    }\n",
       "</style>\n",
       "<table border=\"1\" class=\"dataframe\">\n",
       "  <thead>\n",
       "    <tr style=\"text-align: right;\">\n",
       "      <th></th>\n",
       "      <th>body</th>\n",
       "      <th>label</th>\n",
       "    </tr>\n",
       "  </thead>\n",
       "  <tbody>\n",
       "    <tr>\n",
       "      <th>235036</th>\n",
       "      <td>naturalnews the united states government clai...</td>\n",
       "      <td>unreliable</td>\n",
       "    </tr>\n",
       "    <tr>\n",
       "      <th>235037</th>\n",
       "      <td>digital kids how to click with young techies b...</td>\n",
       "      <td>unreliable</td>\n",
       "    </tr>\n",
       "    <tr>\n",
       "      <th>235038</th>\n",
       "      <td>herbs nature s fountain of youth by kathleen g...</td>\n",
       "      <td>unreliable</td>\n",
       "    </tr>\n",
       "    <tr>\n",
       "      <th>235039</th>\n",
       "      <td>naturalnews beyond merely inspiring women to ...</td>\n",
       "      <td>unreliable</td>\n",
       "    </tr>\n",
       "    <tr>\n",
       "      <th>235040</th>\n",
       "      <td>give your brain a boost by andrea purcell 123r...</td>\n",
       "      <td>unreliable</td>\n",
       "    </tr>\n",
       "  </tbody>\n",
       "</table>\n",
       "</div>"
      ],
      "text/plain": [
       "                                                     body       label\n",
       "235036   naturalnews the united states government clai...  unreliable\n",
       "235037  digital kids how to click with young techies b...  unreliable\n",
       "235038  herbs nature s fountain of youth by kathleen g...  unreliable\n",
       "235039   naturalnews beyond merely inspiring women to ...  unreliable\n",
       "235040  give your brain a boost by andrea purcell 123r...  unreliable"
      ]
     },
     "execution_count": 7,
     "metadata": {},
     "output_type": "execute_result"
    }
   ],
   "source": [
    "df_preprocessed.head()"
   ]
  },
  {
   "cell_type": "markdown",
   "metadata": {},
   "source": [
    "## Data balancing"
   ]
  },
  {
   "cell_type": "code",
   "execution_count": 8,
   "metadata": {},
   "outputs": [
    {
     "data": {
      "text/plain": [
       "unreliable    106003\n",
       "reliable       32856\n",
       "Name: label, dtype: int64"
      ]
     },
     "execution_count": 8,
     "metadata": {},
     "output_type": "execute_result"
    }
   ],
   "source": [
    "df_preprocessed.label.value_counts()"
   ]
  },
  {
   "cell_type": "code",
   "execution_count": 9,
   "metadata": {},
   "outputs": [],
   "source": [
    "df_preprocessed.to_csv('../data/preprocessed/dataset_unbalanced.csv')"
   ]
  },
  {
   "cell_type": "code",
   "execution_count": 10,
   "metadata": {},
   "outputs": [],
   "source": [
    "fakes_sample = df_preprocessed[df_preprocessed.label == 'unreliable'].sample(32856)"
   ]
  },
  {
   "cell_type": "code",
   "execution_count": 11,
   "metadata": {},
   "outputs": [],
   "source": [
    "df_preprocessed = df_preprocessed[df_preprocessed.label == 'reliable']"
   ]
  },
  {
   "cell_type": "code",
   "execution_count": 12,
   "metadata": {},
   "outputs": [],
   "source": [
    "df_preprocessed = df_preprocessed.append(fakes_sample)"
   ]
  },
  {
   "cell_type": "code",
   "execution_count": 13,
   "metadata": {},
   "outputs": [
    {
     "data": {
      "text/plain": [
       "unreliable    32856\n",
       "reliable      32856\n",
       "Name: label, dtype: int64"
      ]
     },
     "execution_count": 13,
     "metadata": {},
     "output_type": "execute_result"
    }
   ],
   "source": [
    "df_preprocessed.label.value_counts()"
   ]
  },
  {
   "cell_type": "code",
   "execution_count": 14,
   "metadata": {},
   "outputs": [
    {
     "data": {
      "text/html": [
       "<div>\n",
       "<style scoped>\n",
       "    .dataframe tbody tr th:only-of-type {\n",
       "        vertical-align: middle;\n",
       "    }\n",
       "\n",
       "    .dataframe tbody tr th {\n",
       "        vertical-align: top;\n",
       "    }\n",
       "\n",
       "    .dataframe thead th {\n",
       "        text-align: right;\n",
       "    }\n",
       "</style>\n",
       "<table border=\"1\" class=\"dataframe\">\n",
       "  <thead>\n",
       "    <tr style=\"text-align: right;\">\n",
       "      <th></th>\n",
       "      <th>body</th>\n",
       "      <th>label</th>\n",
       "    </tr>\n",
       "  </thead>\n",
       "  <tbody>\n",
       "    <tr>\n",
       "      <th>259882</th>\n",
       "      <td>healthline media partners with wellness advoca...</td>\n",
       "      <td>reliable</td>\n",
       "    </tr>\n",
       "    <tr>\n",
       "      <th>259883</th>\n",
       "      <td>online patient communities are thriving and ha...</td>\n",
       "      <td>reliable</td>\n",
       "    </tr>\n",
       "    <tr>\n",
       "      <th>259884</th>\n",
       "      <td>email marketing is more critical than ever. in...</td>\n",
       "      <td>reliable</td>\n",
       "    </tr>\n",
       "    <tr>\n",
       "      <th>259885</th>\n",
       "      <td>industry veterans from netflix and ea join fas...</td>\n",
       "      <td>reliable</td>\n",
       "    </tr>\n",
       "    <tr>\n",
       "      <th>259886</th>\n",
       "      <td>the healthline property has risen to 1 in the ...</td>\n",
       "      <td>reliable</td>\n",
       "    </tr>\n",
       "  </tbody>\n",
       "</table>\n",
       "</div>"
      ],
      "text/plain": [
       "                                                     body     label\n",
       "259882  healthline media partners with wellness advoca...  reliable\n",
       "259883  online patient communities are thriving and ha...  reliable\n",
       "259884  email marketing is more critical than ever. in...  reliable\n",
       "259885  industry veterans from netflix and ea join fas...  reliable\n",
       "259886  the healthline property has risen to 1 in the ...  reliable"
      ]
     },
     "execution_count": 14,
     "metadata": {},
     "output_type": "execute_result"
    }
   ],
   "source": [
    "df_preprocessed.head()"
   ]
  },
  {
   "cell_type": "code",
   "execution_count": 15,
   "metadata": {},
   "outputs": [
    {
     "data": {
      "text/html": [
       "<div>\n",
       "<style scoped>\n",
       "    .dataframe tbody tr th:only-of-type {\n",
       "        vertical-align: middle;\n",
       "    }\n",
       "\n",
       "    .dataframe tbody tr th {\n",
       "        vertical-align: top;\n",
       "    }\n",
       "\n",
       "    .dataframe thead th {\n",
       "        text-align: right;\n",
       "    }\n",
       "</style>\n",
       "<table border=\"1\" class=\"dataframe\">\n",
       "  <thead>\n",
       "    <tr style=\"text-align: right;\">\n",
       "      <th></th>\n",
       "      <th>body</th>\n",
       "      <th>label</th>\n",
       "    </tr>\n",
       "  </thead>\n",
       "  <tbody>\n",
       "    <tr>\n",
       "      <th>325321</th>\n",
       "      <td>naturalhealth365 evidence of how harmful cert...</td>\n",
       "      <td>unreliable</td>\n",
       "    </tr>\n",
       "    <tr>\n",
       "      <th>286399</th>\n",
       "      <td>have you ever heard of human challenge studie...</td>\n",
       "      <td>unreliable</td>\n",
       "    </tr>\n",
       "    <tr>\n",
       "      <th>424662</th>\n",
       "      <td>if you are tired of all of retrogrades, eclips...</td>\n",
       "      <td>unreliable</td>\n",
       "    </tr>\n",
       "    <tr>\n",
       "      <th>424204</th>\n",
       "      <td>because it takes 17 years for basic science re...</td>\n",
       "      <td>unreliable</td>\n",
       "    </tr>\n",
       "    <tr>\n",
       "      <th>282721</th>\n",
       "      <td>! cdata adsbygoogle window.adsbygoogle .push ...</td>\n",
       "      <td>unreliable</td>\n",
       "    </tr>\n",
       "  </tbody>\n",
       "</table>\n",
       "</div>"
      ],
      "text/plain": [
       "                                                     body       label\n",
       "325321   naturalhealth365 evidence of how harmful cert...  unreliable\n",
       "286399   have you ever heard of human challenge studie...  unreliable\n",
       "424662  if you are tired of all of retrogrades, eclips...  unreliable\n",
       "424204  because it takes 17 years for basic science re...  unreliable\n",
       "282721   ! cdata adsbygoogle window.adsbygoogle .push ...  unreliable"
      ]
     },
     "execution_count": 15,
     "metadata": {},
     "output_type": "execute_result"
    }
   ],
   "source": [
    "df_preprocessed.tail()"
   ]
  },
  {
   "cell_type": "code",
   "execution_count": 16,
   "metadata": {},
   "outputs": [],
   "source": [
    "df_preprocessed.to_csv('../data/preprocessed/dataset.csv')"
   ]
  }
 ],
 "metadata": {
  "kernelspec": {
   "display_name": "Python 3",
   "language": "python",
   "name": "python3"
  },
  "language_info": {
   "codemirror_mode": {
    "name": "ipython",
    "version": 3
   },
   "file_extension": ".py",
   "mimetype": "text/x-python",
   "name": "python",
   "nbconvert_exporter": "python",
   "pygments_lexer": "ipython3",
   "version": "3.7.3"
  }
 },
 "nbformat": 4,
 "nbformat_minor": 2
}
