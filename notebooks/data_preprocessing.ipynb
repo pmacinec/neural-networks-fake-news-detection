{
 "cells": [
  {
   "cell_type": "markdown",
   "metadata": {},
   "source": [
    "# Fake news detection\n",
    "\n",
    "**Authors:** Peter Mačinec, Simona Miková"
   ]
  },
  {
   "cell_type": "markdown",
   "metadata": {},
   "source": [
    "## Data preprocessing"
   ]
  },
  {
   "cell_type": "code",
   "execution_count": 1,
   "metadata": {},
   "outputs": [],
   "source": [
    "import pandas as pd\n",
    "import sys\n",
    "sys.path.append('..')\n",
    "\n",
    "from src.data.preprocessing import preprocess_data"
   ]
  },
  {
   "cell_type": "code",
   "execution_count": 2,
   "metadata": {},
   "outputs": [],
   "source": [
    "df = pd.read_json('../data/raw/dataset.json', orient='index')"
   ]
  },
  {
   "cell_type": "code",
   "execution_count": 3,
   "metadata": {},
   "outputs": [
    {
     "data": {
      "text/plain": [
       "195764"
      ]
     },
     "execution_count": 3,
     "metadata": {},
     "output_type": "execute_result"
    }
   ],
   "source": [
    "len(df)"
   ]
  },
  {
   "cell_type": "code",
   "execution_count": 4,
   "metadata": {},
   "outputs": [
    {
     "data": {
      "text/html": [
       "<div>\n",
       "<style scoped>\n",
       "    .dataframe tbody tr th:only-of-type {\n",
       "        vertical-align: middle;\n",
       "    }\n",
       "\n",
       "    .dataframe tbody tr th {\n",
       "        vertical-align: top;\n",
       "    }\n",
       "\n",
       "    .dataframe thead th {\n",
       "        text-align: right;\n",
       "    }\n",
       "</style>\n",
       "<table border=\"1\" class=\"dataframe\">\n",
       "  <thead>\n",
       "    <tr style=\"text-align: right;\">\n",
       "      <th></th>\n",
       "      <th>author</th>\n",
       "      <th>body</th>\n",
       "      <th>id</th>\n",
       "      <th>image</th>\n",
       "      <th>label</th>\n",
       "      <th>perex</th>\n",
       "      <th>source</th>\n",
       "      <th>title</th>\n",
       "    </tr>\n",
       "  </thead>\n",
       "  <tbody>\n",
       "    <tr>\n",
       "      <th>235036</th>\n",
       "      <td>Mike Adams</td>\n",
       "      <td>(NaturalNews) The United States government cla...</td>\n",
       "      <td>235036</td>\n",
       "      <td>https://www.naturalnewsblogs.com/wp-content/up...</td>\n",
       "      <td>unreliable</td>\n",
       "      <td>&lt;p&gt;(NaturalNews) The United States government ...</td>\n",
       "      <td>naturalnewsblogs.com</td>\n",
       "      <td>US government claims 100% ownership over all y...</td>\n",
       "    </tr>\n",
       "    <tr>\n",
       "      <th>235037</th>\n",
       "      <td>by Ronica O&amp;rsquo;Hara (info@www.naturalawaken...</td>\n",
       "      <td>DIGITAL KIDS: How to Click With Young Techies\\...</td>\n",
       "      <td>235037</td>\n",
       "      <td>http://www.naturalawakeningsmag.com/Healthy-Ki...</td>\n",
       "      <td>unreliable</td>\n",
       "      <td>Many Silicon Valley executives that design dev...</td>\n",
       "      <td>naturalawakeningsmag.com</td>\n",
       "      <td>DIGITAL KIDS: How to Click With Young Techies</td>\n",
       "    </tr>\n",
       "    <tr>\n",
       "      <th>235038</th>\n",
       "      <td>by Kathleen Gould and Madalyn Johnson (info@ww...</td>\n",
       "      <td>Herbs: Nature’s Fountain of Youth\\n\\nby Kathle...</td>\n",
       "      <td>235038</td>\n",
       "      <td>http://www.naturalaz.com/ARIZ/September-2019/H...</td>\n",
       "      <td>unreliable</td>\n",
       "      <td>It seems aging is a two-edge sword. At the sam...</td>\n",
       "      <td>naturalawakeningsmag.com</td>\n",
       "      <td>Herbs: Nature’s Fountain of Youth</td>\n",
       "    </tr>\n",
       "    <tr>\n",
       "      <th>235039</th>\n",
       "      <td>Mike Adams</td>\n",
       "      <td>(NaturalNews) Beyond merely inspiring women to...</td>\n",
       "      <td>235039</td>\n",
       "      <td>https://www.naturalnewsblogs.com/wp-content/up...</td>\n",
       "      <td>unreliable</td>\n",
       "      <td>&lt;p&gt;(NaturalNews) Beyond merely inspiring women...</td>\n",
       "      <td>naturalnewsblogs.com</td>\n",
       "      <td>Angelina Jolie copied by men! Surgeons now cut...</td>\n",
       "    </tr>\n",
       "    <tr>\n",
       "      <th>235040</th>\n",
       "      <td>by Andrea Purcell (info@www.naturalawakeningsm...</td>\n",
       "      <td>Give Your Brain a Boost\\n\\nby Andrea Purcell\\n...</td>\n",
       "      <td>235040</td>\n",
       "      <td>http://www.naturalaz.com/ARIZ/September-2019/G...</td>\n",
       "      <td>unreliable</td>\n",
       "      <td>In the United States, there are currently 9.4 ...</td>\n",
       "      <td>naturalawakeningsmag.com</td>\n",
       "      <td>Give Your Brain a Boost</td>\n",
       "    </tr>\n",
       "  </tbody>\n",
       "</table>\n",
       "</div>"
      ],
      "text/plain": [
       "                                                   author  \\\n",
       "235036                                         Mike Adams   \n",
       "235037  by Ronica O&rsquo;Hara (info@www.naturalawaken...   \n",
       "235038  by Kathleen Gould and Madalyn Johnson (info@ww...   \n",
       "235039                                         Mike Adams   \n",
       "235040  by Andrea Purcell (info@www.naturalawakeningsm...   \n",
       "\n",
       "                                                     body      id  \\\n",
       "235036  (NaturalNews) The United States government cla...  235036   \n",
       "235037  DIGITAL KIDS: How to Click With Young Techies\\...  235037   \n",
       "235038  Herbs: Nature’s Fountain of Youth\\n\\nby Kathle...  235038   \n",
       "235039  (NaturalNews) Beyond merely inspiring women to...  235039   \n",
       "235040  Give Your Brain a Boost\\n\\nby Andrea Purcell\\n...  235040   \n",
       "\n",
       "                                                    image       label  \\\n",
       "235036  https://www.naturalnewsblogs.com/wp-content/up...  unreliable   \n",
       "235037  http://www.naturalawakeningsmag.com/Healthy-Ki...  unreliable   \n",
       "235038  http://www.naturalaz.com/ARIZ/September-2019/H...  unreliable   \n",
       "235039  https://www.naturalnewsblogs.com/wp-content/up...  unreliable   \n",
       "235040  http://www.naturalaz.com/ARIZ/September-2019/G...  unreliable   \n",
       "\n",
       "                                                    perex  \\\n",
       "235036  <p>(NaturalNews) The United States government ...   \n",
       "235037  Many Silicon Valley executives that design dev...   \n",
       "235038  It seems aging is a two-edge sword. At the sam...   \n",
       "235039  <p>(NaturalNews) Beyond merely inspiring women...   \n",
       "235040  In the United States, there are currently 9.4 ...   \n",
       "\n",
       "                          source  \\\n",
       "235036      naturalnewsblogs.com   \n",
       "235037  naturalawakeningsmag.com   \n",
       "235038  naturalawakeningsmag.com   \n",
       "235039      naturalnewsblogs.com   \n",
       "235040  naturalawakeningsmag.com   \n",
       "\n",
       "                                                    title  \n",
       "235036  US government claims 100% ownership over all y...  \n",
       "235037      DIGITAL KIDS: How to Click With Young Techies  \n",
       "235038                  Herbs: Nature’s Fountain of Youth  \n",
       "235039  Angelina Jolie copied by men! Surgeons now cut...  \n",
       "235040                            Give Your Brain a Boost  "
      ]
     },
     "execution_count": 4,
     "metadata": {},
     "output_type": "execute_result"
    }
   ],
   "source": [
    "df.head()"
   ]
  },
  {
   "cell_type": "code",
   "execution_count": null,
   "metadata": {},
   "outputs": [],
   "source": [
    "%%time\n",
    "print(df_preprocessed = preprocess_data([df])[0])"
   ]
  },
  {
   "cell_type": "code",
   "execution_count": null,
   "metadata": {},
   "outputs": [],
   "source": [
    "len(df_preprocessed)"
   ]
  },
  {
   "cell_type": "code",
   "execution_count": null,
   "metadata": {},
   "outputs": [],
   "source": [
    "df_preprocessed.head()"
   ]
  },
  {
   "cell_type": "markdown",
   "metadata": {},
   "source": [
    "## Data balancing"
   ]
  },
  {
   "cell_type": "code",
   "execution_count": null,
   "metadata": {},
   "outputs": [],
   "source": [
    "fakes_sample = df_preprocessed[df_preprocessed.label == 'unreliable'].sample() # TODO add sample count"
   ]
  },
  {
   "cell_type": "code",
   "execution_count": null,
   "metadata": {},
   "outputs": [],
   "source": [
    "df_preprocessed = df_preprocessed[df_preprocessed.label == 'reliable']"
   ]
  },
  {
   "cell_type": "code",
   "execution_count": null,
   "metadata": {},
   "outputs": [],
   "source": [
    "df_preprocessed = df_preprocessed.append(fakes_sample)"
   ]
  },
  {
   "cell_type": "code",
   "execution_count": null,
   "metadata": {},
   "outputs": [],
   "source": [
    "df_preprocessed.label.value_counts()"
   ]
  },
  {
   "cell_type": "code",
   "execution_count": null,
   "metadata": {},
   "outputs": [],
   "source": [
    "df_preprocessed.to_csv('../data/preprocessed/dataset.csv')"
   ]
  }
 ],
 "metadata": {
  "kernelspec": {
   "display_name": "Python 3",
   "language": "python",
   "name": "python3"
  },
  "language_info": {
   "codemirror_mode": {
    "name": "ipython",
    "version": 3
   },
   "file_extension": ".py",
   "mimetype": "text/x-python",
   "name": "python",
   "nbconvert_exporter": "python",
   "pygments_lexer": "ipython3",
   "version": "3.6.8"
  }
 },
 "nbformat": 4,
 "nbformat_minor": 2
}
